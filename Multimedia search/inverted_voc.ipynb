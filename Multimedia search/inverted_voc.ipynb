{
 "cells": [
  {
   "cell_type": "code",
   "execution_count": 2,
   "metadata": {
    "pycharm": {
     "is_executing": true
    }
   },
   "outputs": [],
   "source": [
    "#任务1 倒排表的实现，应该在层次聚类时候生成倒排表，并在搜索图片时候使用，提高搜索效率//TODO\n",
    "import joblib\n",
    "import hierarchical_cluster as hc\n",
    "import numpy as np\n",
    "import cv2\n",
    "\n",
    "# 读取训练好的分类模型\n",
    "im_features, image_paths, idf, centroids = joblib.load(\"model.joblib\")\n",
    "\n",
    "# 读取提取后的sift特征\n",
    "image_paths, des_list, descriptors = joblib.load(\"descriptors.joblib\")\n"
   ]
  },
  {
   "cell_type": "code",
   "execution_count": 3,
   "metadata": {
    "pycharm": {
     "is_executing": true,
     "name": "#%%\n"
    }
   },
   "outputs": [],
   "source": [
    "voc = {}\n",
    "for i in range(centroids[\"words\"]):\n",
    "    voc[i] = set()\n",
    "\n",
    "for i in range(len(des_list)):\n",
    "    words = hc.hierarchical_cluster_predict(centroids, des_list[i][1])\n",
    "    for w in words:\n",
    "        voc[w].add(i)\n",
    "    if i > 10:\n",
    "        break"
   ]
  },
  {
   "cell_type": "code",
   "execution_count": 4,
   "metadata": {},
   "outputs": [
    {
     "data": {
      "text/plain": [
       "729"
      ]
     },
     "execution_count": 4,
     "metadata": {},
     "output_type": "execute_result"
    }
   ],
   "source": [
    "len(voc)"
   ]
  },
  {
   "cell_type": "code",
   "execution_count": 9,
   "metadata": {},
   "outputs": [
    {
     "name": "stdout",
     "output_type": "stream",
     "text": [
      "1\t2\t3\t5\t7\t8\t10\tdataset\\training\\all_souls_000006.jpg\n"
     ]
    },
    {
     "data": {
      "text/plain": [
       "-1"
      ]
     },
     "execution_count": 9,
     "metadata": {},
     "output_type": "execute_result"
    }
   ],
   "source": [
    "word = 2\n",
    "result = voc[word]\n",
    "\n",
    "for r in result:\n",
    "    print(r, end='\\t')\n",
    "    \n",
    "\n",
    "img_path = des_list[result.pop()][0]\n",
    "\n",
    "print(img_path)\n",
    "\n",
    "img = cv2.imread(img_path)\n",
    "cv2.imshow(\"show\", img)\n",
    "cv2.waitKey()"
   ]
  },
  {
   "cell_type": "code",
   "execution_count": null,
   "metadata": {},
   "outputs": [],
   "source": []
  }
 ],
 "metadata": {
  "kernelspec": {
   "display_name": "Python 3",
   "language": "python",
   "name": "python3"
  },
  "language_info": {
   "codemirror_mode": {
    "name": "ipython",
    "version": 3
   },
   "file_extension": ".py",
   "mimetype": "text/x-python",
   "name": "python",
   "nbconvert_exporter": "python",
   "pygments_lexer": "ipython3",
   "version": "3.7.4"
  },
  "pycharm": {
   "stem_cell": {
    "cell_type": "raw",
    "source": [],
    "metadata": {
     "collapsed": false
    }
   }
  }
 },
 "nbformat": 4,
 "nbformat_minor": 1
}